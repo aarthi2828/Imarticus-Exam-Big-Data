{
  "nbformat": 4,
  "nbformat_minor": 0,
  "metadata": {
    "colab": {
      "name": "Big_Data_Exam.ipynb",
      "provenance": [],
      "collapsed_sections": []
    },
    "kernelspec": {
      "name": "python3",
      "display_name": "Python 3"
    },
    "language_info": {
      "name": "python"
    }
  },
  "cells": [
    {
      "cell_type": "markdown",
      "source": [
        "# Big Data Hadoop & Spark Exam "
      ],
      "metadata": {
        "id": "V8TqBwD5I5Gh"
      }
    },
    {
      "cell_type": "code",
      "source": [
        "# Installing Pyspark\n",
        "pip install pyspark"
      ],
      "metadata": {
        "colab": {
          "base_uri": "https://localhost:8080/"
        },
        "id": "g6WuZ02LHvVO",
        "outputId": "1ba76cd9-b0b4-4b9a-a27f-da14fed2db8d"
      },
      "execution_count": null,
      "outputs": [
        {
          "output_type": "stream",
          "name": "stdout",
          "text": [
            "Looking in indexes: https://pypi.org/simple, https://us-python.pkg.dev/colab-wheels/public/simple/\n",
            "Requirement already satisfied: pyspark in /usr/local/lib/python3.7/dist-packages (3.2.1)\n",
            "Requirement already satisfied: py4j==0.10.9.3 in /usr/local/lib/python3.7/dist-packages (from pyspark) (0.10.9.3)\n"
          ]
        }
      ]
    },
    {
      "cell_type": "code",
      "execution_count": null,
      "metadata": {
        "id": "pejncyv5HPto"
      },
      "outputs": [],
      "source": [
        "# Importing Necessary Libraries\n",
        "import pyspark\n",
        "from pyspark.sql import SparkSession\n",
        "from pyspark.sql import Row\n",
        "from pyspark.ml.stat import Correlation\n",
        "from pyspark.ml.feature import VectorAssembler\n",
        "from pyspark.sql.functions import col\n",
        "from pyspark.sql.functions import *\n",
        "from pyspark.ml.feature import VectorAssembler\n",
        "from pyspark.ml.regression import LinearRegression\n",
        "from pyspark.ml.evaluation import RegressionEvaluator\n",
        "appName= \"hive_pyspark\"\n",
        "master= \"local\""
      ]
    },
    {
      "cell_type": "code",
      "source": [
        "# Creting Pyspark Session\n",
        "spark = SparkSession.builder \\\n",
        "\t.master(master).appName(appName).enableHiveSupport().getOrCreate()"
      ],
      "metadata": {
        "id": "vT_w0gynHY4h"
      },
      "execution_count": null,
      "outputs": []
    },
    {
      "cell_type": "code",
      "source": [
        "# Checking for Pre-existing Databases\n",
        "df=spark.sql(\"show databases\")\n",
        "df.show()"
      ],
      "metadata": {
        "colab": {
          "base_uri": "https://localhost:8080/"
        },
        "id": "BY8Wl-83H8E5",
        "outputId": "9317a361-b15f-44fd-f310-e75a394a5d71"
      },
      "execution_count": null,
      "outputs": [
        {
          "output_type": "stream",
          "name": "stdout",
          "text": [
            "+---------+\n",
            "|namespace|\n",
            "+---------+\n",
            "|  default|\n",
            "+---------+\n",
            "\n"
          ]
        }
      ]
    },
    {
      "cell_type": "markdown",
      "source": [
        "### Q.1 Read the given CSV file in a Hive table"
      ],
      "metadata": {
        "id": "1ly4Rk9PKSjc"
      }
    },
    {
      "cell_type": "code",
      "source": [
        "# Reading the given CSV file in a Hive table\n",
        "datafile=spark.read.csv(\"boston.csv\",header=True)\n",
        "datafile.show(5)\n",
        "datafile.write.saveAsTable(\"boston_table\")"
      ],
      "metadata": {
        "colab": {
          "base_uri": "https://localhost:8080/"
        },
        "id": "TXsZObsQH9j7",
        "outputId": "1da873c4-185e-478c-ae97-fde0849cac47"
      },
      "execution_count": null,
      "outputs": [
        {
          "output_type": "stream",
          "name": "stdout",
          "text": [
            "+-----------+---+-----------+----+-----------+-----------+-----------+-----------+---+---+-----------+-----------+-----------+-----------+\n",
            "|       CRIM| ZN|      INDUS|CHAS|        NOX|         RM|        AGE|        DIS|RAD|TAX|         PT|          B|      LSTAT|         MV|\n",
            "+-----------+---+-----------+----+-----------+-----------+-----------+-----------+---+---+-----------+-----------+-----------+-----------+\n",
            "|    0.00632| 18|2.309999943|   0|0.537999988|6.574999809|65.19999695|4.090000153|  1|296|15.30000019|396.8999939|4.980000019|         24|\n",
            "|0.027310001|  0|7.070000172|   0|0.469000012|6.421000004|78.90000153|4.967100143|  2|242|17.79999924|396.8999939|9.140000343|21.60000038|\n",
            "|    0.02729|  0|7.070000172|   0|0.469000012|7.184999943|61.09999847|4.967100143|  2|242|17.79999924|392.8299866| 4.03000021|34.70000076|\n",
            "|0.032370001|  0|2.180000067|   0|0.458000004|6.998000145|45.79999924|6.062200069|  3|222|18.70000076|394.6300049|2.940000057|33.40000153|\n",
            "|0.069049999|  0|2.180000067|   0|0.458000004|7.146999836|54.20000076|6.062200069|  3|222|18.70000076|396.8999939|5.329999924|36.20000076|\n",
            "+-----------+---+-----------+----+-----------+-----------+-----------+-----------+---+---+-----------+-----------+-----------+-----------+\n",
            "only showing top 5 rows\n",
            "\n"
          ]
        }
      ]
    },
    {
      "cell_type": "markdown",
      "source": [
        "### Q.2 Read the data from Hive table as spark dataframe"
      ],
      "metadata": {
        "id": "C5fZxoXlKanC"
      }
    },
    {
      "cell_type": "code",
      "source": [
        "# Reading the data from Hive table as spark dataframe\n",
        "df=spark.sql(\"select * from boston_table\")\n",
        "df.show()"
      ],
      "metadata": {
        "colab": {
          "base_uri": "https://localhost:8080/"
        },
        "id": "hyKrCKCLH_Xi",
        "outputId": "2d7fdc3d-ea4f-4882-8516-c2b06405f58c"
      },
      "execution_count": null,
      "outputs": [
        {
          "output_type": "stream",
          "name": "stdout",
          "text": [
            "+-----------+----+-----------+----+-----------+-----------+-----------+-----------+---+---+-----------+-----------+-----------+-----------+\n",
            "|       CRIM|  ZN|      INDUS|CHAS|        NOX|         RM|        AGE|        DIS|RAD|TAX|         PT|          B|      LSTAT|         MV|\n",
            "+-----------+----+-----------+----+-----------+-----------+-----------+-----------+---+---+-----------+-----------+-----------+-----------+\n",
            "|    0.00632|  18|2.309999943|   0|0.537999988|6.574999809|65.19999695|4.090000153|  1|296|15.30000019|396.8999939|4.980000019|         24|\n",
            "|0.027310001|   0|7.070000172|   0|0.469000012|6.421000004|78.90000153|4.967100143|  2|242|17.79999924|396.8999939|9.140000343|21.60000038|\n",
            "|    0.02729|   0|7.070000172|   0|0.469000012|7.184999943|61.09999847|4.967100143|  2|242|17.79999924|392.8299866| 4.03000021|34.70000076|\n",
            "|0.032370001|   0|2.180000067|   0|0.458000004|6.998000145|45.79999924|6.062200069|  3|222|18.70000076|394.6300049|2.940000057|33.40000153|\n",
            "|0.069049999|   0|2.180000067|   0|0.458000004|7.146999836|54.20000076|6.062200069|  3|222|18.70000076|396.8999939|5.329999924|36.20000076|\n",
            "|0.029850001|   0|2.180000067|   0|0.458000004|6.429999828|58.70000076|6.062200069|  3|222|18.70000076|394.1199951|5.210000038|28.70000076|\n",
            "|0.088289998|12.5|7.869999886|   0|0.523999989|6.012000084|66.59999847|5.560500145|  5|311|15.19999981|395.6000061|12.43000031|22.89999962|\n",
            "|0.144549996|12.5|7.869999886|   0|0.523999989|6.171999931|96.09999847|5.950500011|  5|311|15.19999981|396.8999939|19.14999962|27.10000038|\n",
            "|0.211239994|12.5|7.869999886|   0|0.523999989|5.631000042|        100|6.082099915|  5|311|15.19999981|386.6300049|29.93000031|       16.5|\n",
            "|0.170039997|12.5|7.869999886|   0|0.523999989|6.004000187|85.90000153|6.592100143|  5|311|15.19999981|386.7099915|17.10000038|18.89999962|\n",
            "|0.224889994|12.5|7.869999886|   0|0.523999989|6.376999855|94.30000305|6.346700191|  5|311|15.19999981| 392.519989|20.45000076|         15|\n",
            "|0.117470004|12.5|7.869999886|   0|0.523999989|6.008999825|82.90000153|6.226699829|  5|311|15.19999981|396.8999939|13.27000046|18.89999962|\n",
            "|0.093780003|12.5|7.869999886|   0|0.523999989|5.888999939|         39|5.450900078|  5|311|15.19999981|      390.5|15.71000004|21.70000076|\n",
            "|0.629760027|   0|8.140000343|   0|0.537999988|5.948999882|61.79999924|4.707499981|  4|307|         21|396.8999939|8.260000229|20.39999962|\n",
            "|0.637960017|   0|8.140000343|   0|0.537999988|6.096000195|       84.5|4.461900234|  4|307|         21| 380.019989|10.26000023|18.20000076|\n",
            "|0.627390027|   0|8.140000343|   0|0.537999988|5.834000111|       56.5|4.498600006|  4|307|         21|395.6199951|8.470000267|19.89999962|\n",
            "|1.053930044|   0|8.140000343|   0|0.537999988|5.934999943|29.29999924|4.498600006|  4|307|         21|386.8500061|6.579999924|23.10000038|\n",
            "|0.784200013|   0|8.140000343|   0|0.537999988|5.989999771|81.69999695|4.257900238|  4|307|         21|     386.75|14.67000008|       17.5|\n",
            "|0.802709997|   0|8.140000343|   0|0.537999988|5.455999851|36.59999847|3.796499968|  4|307|         21|288.9899902|11.68999958|20.20000076|\n",
            "|0.725799978|   0|8.140000343|   0|0.537999988|5.727000237|       69.5|3.796499968|  4|307|         21|390.9500122|11.27999973|18.20000076|\n",
            "+-----------+----+-----------+----+-----------+-----------+-----------+-----------+---+---+-----------+-----------+-----------+-----------+\n",
            "only showing top 20 rows\n",
            "\n"
          ]
        }
      ]
    },
    {
      "cell_type": "markdown",
      "source": [
        "### Q.3 Get the correlation between dependent and independent variables\n"
      ],
      "metadata": {
        "id": "WI8cePMPK1z_"
      }
    },
    {
      "cell_type": "code",
      "source": [
        "#Get All column names and it's types\n",
        "for col in df.dtypes:\n",
        "    print(col[0]+\" , \"+col[1])"
      ],
      "metadata": {
        "colab": {
          "base_uri": "https://localhost:8080/"
        },
        "id": "6WQPrd6WIBFY",
        "outputId": "21f2196f-0fe1-4e71-e4f9-10b02220b6a4"
      },
      "execution_count": null,
      "outputs": [
        {
          "output_type": "stream",
          "name": "stdout",
          "text": [
            "CRIM , string\n",
            "ZN , string\n",
            "INDUS , string\n",
            "CHAS , string\n",
            "NOX , string\n",
            "RM , string\n",
            "AGE , string\n",
            "DIS , string\n",
            "RAD , string\n",
            "TAX , string\n",
            "PT , string\n",
            "B , string\n",
            "LSTAT , string\n",
            "MV , string\n"
          ]
        }
      ]
    },
    {
      "cell_type": "code",
      "source": [
        "# Distinct() function \n",
        "df.select(\"INDUS\").distinct().show(truncate=False)"
      ],
      "metadata": {
        "colab": {
          "base_uri": "https://localhost:8080/"
        },
        "id": "OD9WouG7IL9t",
        "outputId": "d171641b-6db3-4d1d-841d-336db99c8f77"
      },
      "execution_count": null,
      "outputs": [
        {
          "output_type": "stream",
          "name": "stdout",
          "text": [
            "+-----------+\n",
            "|INDUS      |\n",
            "+-----------+\n",
            "|2.970000029|\n",
            "|3.440000057|\n",
            "|2.460000038|\n",
            "|2.930000067|\n",
            "|4.389999866|\n",
            "|4.949999809|\n",
            "|1.470000029|\n",
            "|5.130000114|\n",
            "|25.64999962|\n",
            "|3.75       |\n",
            "|2.680000067|\n",
            "|4.150000095|\n",
            "|4.050000191|\n",
            "|2.890000105|\n",
            "|2.950000048|\n",
            "|0.460000008|\n",
            "|6.409999847|\n",
            "|11.93000031|\n",
            "|10.01000023|\n",
            "|27.73999977|\n",
            "+-----------+\n",
            "only showing top 20 rows\n",
            "\n"
          ]
        }
      ]
    },
    {
      "cell_type": "code",
      "source": [
        "# Changing the Data Type of the columns to double\n",
        "from pyspark.sql.functions import col\n",
        "df = df.select([col(column).cast('double') for column in df.columns])"
      ],
      "metadata": {
        "id": "IS2CTDLYINeh"
      },
      "execution_count": null,
      "outputs": []
    },
    {
      "cell_type": "code",
      "source": [
        "#Get All column names and it's types\n",
        "for col in df.dtypes:\n",
        "    print(col[0]+\" , \"+col[1])"
      ],
      "metadata": {
        "colab": {
          "base_uri": "https://localhost:8080/"
        },
        "id": "6MIpo__IIScp",
        "outputId": "2b69f2ad-a00f-4af0-efec-3031c04f13ee"
      },
      "execution_count": null,
      "outputs": [
        {
          "output_type": "stream",
          "name": "stdout",
          "text": [
            "CRIM , double\n",
            "ZN , double\n",
            "INDUS , double\n",
            "CHAS , double\n",
            "NOX , double\n",
            "RM , double\n",
            "AGE , double\n",
            "DIS , double\n",
            "RAD , double\n",
            "TAX , double\n",
            "PT , double\n",
            "B , double\n",
            "LSTAT , double\n",
            "MV , double\n"
          ]
        }
      ]
    },
    {
      "cell_type": "code",
      "source": [
        "# convert to vector column first\n",
        "vector_col = \"corr_features\"\n",
        "assembler = VectorAssembler(inputCols=df.columns, outputCol=vector_col)\n",
        "df_vector = assembler.transform(df).select(vector_col)"
      ],
      "metadata": {
        "id": "Op5Bg_3aIcwQ"
      },
      "execution_count": null,
      "outputs": []
    },
    {
      "cell_type": "code",
      "source": [
        "# Creating correlation matrix\n",
        "matrix = Correlation.corr(df_vector, vector_col)"
      ],
      "metadata": {
        "colab": {
          "base_uri": "https://localhost:8080/"
        },
        "id": "RIWQDyRkIeUp",
        "outputId": "88fe42e8-7c10-4440-b465-d9ee94147daa"
      },
      "execution_count": null,
      "outputs": [
        {
          "output_type": "stream",
          "name": "stderr",
          "text": [
            "/usr/local/lib/python3.7/dist-packages/pyspark/sql/context.py:127: FutureWarning: Deprecated in 3.0.0. Use SparkSession.builder.getOrCreate() instead.\n",
            "  FutureWarning\n"
          ]
        }
      ]
    },
    {
      "cell_type": "code",
      "source": [
        "# Printing correlation matrix\n",
        "matrix.collect()[0][\"pearson({})\".format(vector_col)].values"
      ],
      "metadata": {
        "colab": {
          "base_uri": "https://localhost:8080/"
        },
        "id": "zKuROYhbIfhh",
        "outputId": "a3665c21-58cd-44e7-aad0-a6aaf965bf28"
      },
      "execution_count": null,
      "outputs": [
        {
          "output_type": "execute_result",
          "data": {
            "text/plain": [
              "array([ 1.        , -0.20046922,  0.40658343, -0.05589158,  0.42097173,\n",
              "       -0.2192467 ,  0.35273425, -0.37967009,  0.62550515,  0.58276431,\n",
              "        0.28994564, -0.38506395,  0.45562148, -0.38830461, -0.20046922,\n",
              "        1.        , -0.53382819, -0.04269672, -0.51660371,  0.31199059,\n",
              "       -0.56953734,  0.66440822, -0.31194783, -0.31456332, -0.39167853,\n",
              "        0.17552031, -0.41299458,  0.36044534,  0.40658343, -0.53382819,\n",
              "        1.        ,  0.06293803,  0.76365146, -0.39167586,  0.64477851,\n",
              "       -0.70802699,  0.5951293 ,  0.7207602 ,  0.38324764, -0.35697654,\n",
              "        0.60379972, -0.48372517, -0.05589158, -0.04269672,  0.06293803,\n",
              "        1.        ,  0.0912028 ,  0.09125123,  0.08651777, -0.09917578,\n",
              "       -0.00736824, -0.03558652, -0.12151517,  0.04878849, -0.0539293 ,\n",
              "        0.17526018,  0.42097173, -0.51660371,  0.76365146,  0.0912028 ,\n",
              "        1.        , -0.30218816,  0.73147011, -0.76923012,  0.61144056,\n",
              "        0.66802321,  0.18893272, -0.38005064,  0.59087892, -0.42732078,\n",
              "       -0.2192467 ,  0.31199059, -0.39167586,  0.09125123, -0.30218816,\n",
              "        1.        , -0.24026491,  0.2052462 , -0.20984667, -0.29204784,\n",
              "       -0.3555015 ,  0.12806863, -0.61380826,  0.69535994,  0.35273425,\n",
              "       -0.56953734,  0.64477851,  0.08651777,  0.73147011, -0.24026491,\n",
              "        1.        , -0.74788054,  0.45602245,  0.5064556 ,  0.26151502,\n",
              "       -0.27353397,  0.60233853, -0.37695457, -0.37967009,  0.66440822,\n",
              "       -0.70802699, -0.09917578, -0.76923012,  0.2052462 , -0.74788054,\n",
              "        1.        , -0.49458793, -0.53443158, -0.23247057,  0.29151167,\n",
              "       -0.49699583,  0.24992874,  0.62550515, -0.31194783,  0.5951293 ,\n",
              "       -0.00736824,  0.61144056, -0.20984667,  0.45602245, -0.49458793,\n",
              "        1.        ,  0.91022819,  0.46474127, -0.44441282,  0.48867634,\n",
              "       -0.38162623,  0.58276431, -0.31456332,  0.7207602 , -0.03558652,\n",
              "        0.66802321, -0.29204784,  0.5064556 , -0.53443158,  0.91022819,\n",
              "        1.        ,  0.46085312, -0.44180801,  0.54399341, -0.46853594,\n",
              "        0.28994564, -0.39167853,  0.38324764, -0.12151517,  0.18893272,\n",
              "       -0.3555015 ,  0.26151502, -0.23247057,  0.46474127,  0.46085312,\n",
              "        1.        , -0.17738334,  0.37404435, -0.5077867 , -0.38506395,\n",
              "        0.17552031, -0.35697654,  0.04878849, -0.38005064,  0.12806863,\n",
              "       -0.27353397,  0.29151167, -0.44441282, -0.44180801, -0.17738334,\n",
              "        1.        , -0.3660869 ,  0.33346082,  0.45562148, -0.41299458,\n",
              "        0.60379972, -0.0539293 ,  0.59087892, -0.61380826,  0.60233853,\n",
              "       -0.49699583,  0.48867634,  0.54399341,  0.37404435, -0.3660869 ,\n",
              "        1.        , -0.73766273, -0.38830461,  0.36044534, -0.48372517,\n",
              "        0.17526018, -0.42732078,  0.69535994, -0.37695457,  0.24992874,\n",
              "       -0.38162623, -0.46853594, -0.5077867 ,  0.33346082, -0.73766273,\n",
              "        1.        ])"
            ]
          },
          "metadata": {},
          "execution_count": 15
        }
      ]
    },
    {
      "cell_type": "markdown",
      "source": [
        "### Q.4 Build a linear regression model to predict house price"
      ],
      "metadata": {
        "id": "y33RcEm2LMVz"
      }
    },
    {
      "cell_type": "code",
      "source": [
        "# Using Vector assembler to transform each row into a vector\n",
        "vectorAssembler = VectorAssembler(inputCols = ['CRIM', 'ZN', 'INDUS', 'CHAS', 'NOX', 'RM', 'AGE', 'DIS', 'RAD', 'TAX', 'PT', 'B', 'LSTAT'], outputCol = 'features')\n",
        "vhouse_df = vectorAssembler.transform(df)\n",
        "vhouse_df = vhouse_df.select(['features', 'MV'])\n",
        "vhouse_df.show(3)"
      ],
      "metadata": {
        "colab": {
          "base_uri": "https://localhost:8080/"
        },
        "id": "sukC68iwIlMh",
        "outputId": "a5ee6834-a7db-4798-dc1c-a0afa03a5219"
      },
      "execution_count": null,
      "outputs": [
        {
          "output_type": "stream",
          "name": "stdout",
          "text": [
            "+--------------------+-----------+\n",
            "|            features|         MV|\n",
            "+--------------------+-----------+\n",
            "|[0.00632,18.0,2.3...|       24.0|\n",
            "|[0.027310001,0.0,...|21.60000038|\n",
            "|[0.02729,0.0,7.07...|34.70000076|\n",
            "+--------------------+-----------+\n",
            "only showing top 3 rows\n",
            "\n"
          ]
        }
      ]
    },
    {
      "cell_type": "code",
      "source": [
        "# Spliting the dataset into training and testing datasets\n",
        "splits = vhouse_df.randomSplit([0.7, 0.3])\n",
        "train_df = splits[0]\n",
        "test_df = splits[1]"
      ],
      "metadata": {
        "id": "tA_KUH9NImyx"
      },
      "execution_count": null,
      "outputs": []
    },
    {
      "cell_type": "code",
      "source": [
        "# Building a Linear Regression Model\n",
        "lr = LinearRegression(featuresCol = 'features', labelCol='MV', maxIter=10, regParam=0.3, elasticNetParam=0.8)\n",
        "# fitting the Linear Regression Model\n",
        "lr_model = lr.fit(train_df)\n",
        "print(\"Coefficients: \" + str(lr_model.coefficients))\n",
        "print(\"Intercept: \" + str(lr_model.intercept))"
      ],
      "metadata": {
        "colab": {
          "base_uri": "https://localhost:8080/"
        },
        "id": "NbUjSR4xIoCZ",
        "outputId": "0e6f9289-b805-451d-8c1d-504e2c06130a"
      },
      "execution_count": null,
      "outputs": [
        {
          "output_type": "stream",
          "name": "stdout",
          "text": [
            "Coefficients: [-0.028395854681958883,0.02930461876789947,0.0,3.066308621998608,-6.61937643464388,4.378778328923477,0.0,-0.6737944552172304,0.0,0.0,-0.8144944626041648,0.008190891682473573,-0.4670282611821067]\n",
            "Intercept: 19.060284096681574\n"
          ]
        }
      ]
    },
    {
      "cell_type": "markdown",
      "source": [
        "### Q.5 Evaluate the Linear Regression model by getting the RMSE and R-squared values\n"
      ],
      "metadata": {
        "id": "Ywloe5koLS_g"
      }
    },
    {
      "cell_type": "code",
      "source": [
        "# Printing the RMSE & R2 Values of the model\n",
        "trainingSummary = lr_model.summary\n",
        "print(\"RMSE: %f\" % trainingSummary.rootMeanSquaredError)\n",
        "print(\"r2: %f\" % trainingSummary.r2)"
      ],
      "metadata": {
        "colab": {
          "base_uri": "https://localhost:8080/"
        },
        "id": "Ny4wwrkYIpMZ",
        "outputId": "29c8bc49-8455-4c2e-cc0f-f3f77eae1084"
      },
      "execution_count": null,
      "outputs": [
        {
          "output_type": "stream",
          "name": "stdout",
          "text": [
            "RMSE: 4.974147\n",
            "r2: 0.717410\n"
          ]
        }
      ]
    },
    {
      "cell_type": "code",
      "source": [
        "# Comparing the Predicted and Visually\n",
        "lr_predictions = lr_model.transform(test_df)\n",
        "lr_predictions.select(\"prediction\",\"MV\",\"features\").show(5)\n",
        "lr_evaluator = RegressionEvaluator(predictionCol=\"prediction\", \\\n",
        "                 labelCol=\"MV\",metricName=\"r2\")\n",
        "print(\"R Squared (R2) on test data = %g\" % lr_evaluator.evaluate(lr_predictions))"
      ],
      "metadata": {
        "colab": {
          "base_uri": "https://localhost:8080/"
        },
        "id": "FWTmMTwrIqmB",
        "outputId": "9d688cb6-17ea-4cf8-bf54-39dbda3b83ac"
      },
      "execution_count": null,
      "outputs": [
        {
          "output_type": "stream",
          "name": "stdout",
          "text": [
            "+------------------+-----------+--------------------+\n",
            "|        prediction|         MV|            features|\n",
            "+------------------+-----------+--------------------+\n",
            "|28.357129025153956|       22.0|[0.01096,55.0,2.2...|\n",
            "|27.061294656153194|24.70000076|[0.02055,85.0,0.7...|\n",
            "| 31.91531648842608|31.10000038|[0.02187,60.0,2.9...|\n",
            "| 28.48817994084186|23.89999962|[0.025429999,55.0...|\n",
            "|30.907242119279495|34.70000076|[0.02729,0.0,7.07...|\n",
            "+------------------+-----------+--------------------+\n",
            "only showing top 5 rows\n",
            "\n",
            "R Squared (R2) on test data = 0.705648\n"
          ]
        }
      ]
    },
    {
      "cell_type": "code",
      "source": [
        "# Print RMSE for Test Data\n",
        "test_result = lr_model.evaluate(test_df)\n",
        "print(\"Root Mean Squared Error (RMSE) on test data = %g\" % test_result.rootMeanSquaredError)"
      ],
      "metadata": {
        "colab": {
          "base_uri": "https://localhost:8080/"
        },
        "id": "hejm2YmgIscK",
        "outputId": "be7f4269-9697-4c62-b2d7-5567d68453df"
      },
      "execution_count": null,
      "outputs": [
        {
          "output_type": "stream",
          "name": "stdout",
          "text": [
            "Root Mean Squared Error (RMSE) on test data = 4.7291\n"
          ]
        }
      ]
    },
    {
      "cell_type": "code",
      "source": [
        "# Printing Residuals\n",
        "print(\"numIterations: %d\" % trainingSummary.totalIterations)\n",
        "print(\"objectiveHistory: %s\" % str(trainingSummary.objectiveHistory))\n",
        "trainingSummary.residuals.show()"
      ],
      "metadata": {
        "colab": {
          "base_uri": "https://localhost:8080/"
        },
        "id": "xGHSNDR4It_B",
        "outputId": "907cfcbb-c313-46fa-a155-951ffc58e546"
      },
      "execution_count": null,
      "outputs": [
        {
          "output_type": "stream",
          "name": "stdout",
          "text": [
            "numIterations: 10\n",
            "objectiveHistory: [0.5000000000000004, 0.43282548495909523, 0.23128639178979948, 0.20752552512685604, 0.1824042012619024, 0.18029326775735582, 0.1798083075900671, 0.17895128600710877, 0.17834582557881745, 0.17800162498800387, 0.1779481047172851]\n"
          ]
        },
        {
          "output_type": "stream",
          "name": "stderr",
          "text": [
            "/usr/local/lib/python3.7/dist-packages/pyspark/sql/context.py:127: FutureWarning: Deprecated in 3.0.0. Use SparkSession.builder.getOrCreate() instead.\n",
            "  FutureWarning\n"
          ]
        },
        {
          "output_type": "stream",
          "name": "stdout",
          "text": [
            "+--------------------+\n",
            "|           residuals|\n",
            "+--------------------+\n",
            "|  -6.524409258343688|\n",
            "|-0.06802440968493784|\n",
            "|  0.5309288795108742|\n",
            "|  4.0710759045414875|\n",
            "|  0.3528128429231998|\n",
            "|  10.598795073681913|\n",
            "| -0.9808973620652957|\n",
            "| -2.1243139137715445|\n",
            "|  -4.014095159352905|\n",
            "|   6.476281116815855|\n",
            "|   7.779037114296727|\n",
            "|  2.6260403177277674|\n",
            "|  0.4150482418684476|\n",
            "|  -4.056614777358806|\n",
            "|   6.977447813010258|\n",
            "| -1.8467051234294303|\n",
            "|   9.299200548530358|\n",
            "|   4.658942486905211|\n",
            "|  -9.749209443383936|\n",
            "| -3.6086773073277953|\n",
            "+--------------------+\n",
            "only showing top 20 rows\n",
            "\n"
          ]
        }
      ]
    },
    {
      "cell_type": "code",
      "source": [
        "# Checking the predictions\n",
        "predictions = lr_model.transform(test_df)\n",
        "predictions.select(\"prediction\",\"MV\",\"features\").show()"
      ],
      "metadata": {
        "colab": {
          "base_uri": "https://localhost:8080/"
        },
        "id": "eZFznwofIvdi",
        "outputId": "0db16fb0-2723-48c2-cc0c-4c40a3b21bbe"
      },
      "execution_count": null,
      "outputs": [
        {
          "output_type": "stream",
          "name": "stdout",
          "text": [
            "+------------------+-----------+--------------------+\n",
            "|        prediction|         MV|            features|\n",
            "+------------------+-----------+--------------------+\n",
            "|28.357129025153956|       22.0|[0.01096,55.0,2.2...|\n",
            "|27.061294656153194|24.70000076|[0.02055,85.0,0.7...|\n",
            "| 31.91531648842608|31.10000038|[0.02187,60.0,2.9...|\n",
            "| 28.48817994084186|23.89999962|[0.025429999,55.0...|\n",
            "|30.907242119279495|34.70000076|[0.02729,0.0,7.07...|\n",
            "| 29.98081591464804|30.79999924|[0.027629999,75.0...|\n",
            "| 19.99652170388329|       17.5|[0.031129999,0.0,...|\n",
            "|21.756491372777685|20.60000038|[0.033059999,0.0,...|\n",
            "|20.045994844578853|       19.5|[0.03427,0.0,5.19...|\n",
            "| 31.33575603506175|       28.5|[0.035020001,80.0...|\n",
            "|23.885121157185814|20.89999962|[0.03548,80.0,3.6...|\n",
            "|24.553913159936528|22.89999962|[0.03551,25.0,4.8...|\n",
            "|32.624166492954885|35.40000153|[0.037050001,20.0...|\n",
            "| 26.57015088220502|23.20000076|[0.038710002,52.5...|\n",
            "|28.093948955447303|       28.0|[0.041129999,25.0...|\n",
            "|27.146989711980428|22.89999962|[0.042029999,28.0...|\n",
            "|25.216758319408243|20.60000038|[0.042939998,28.0...|\n",
            "|  17.7910835251184|18.20000076|[0.04301,80.0,1.9...|\n",
            "|24.092447168493276|       20.5|[0.043370001,21.0...|\n",
            "|22.448612508074817|11.89999962|[0.04741,0.0,11.9...|\n",
            "+------------------+-----------+--------------------+\n",
            "only showing top 20 rows\n",
            "\n"
          ]
        }
      ]
    }
  ]
}